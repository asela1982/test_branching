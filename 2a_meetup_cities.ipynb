{
 "cells": [
  {
   "cell_type": "code",
   "execution_count": 8,
   "metadata": {},
   "outputs": [],
   "source": [
    "# import dependencies\n",
    "import pandas as pd\n",
    "import numpy as np\n",
    "import json\n",
    "import csv\n",
    "import os\n",
    "import time\n",
    "from config import api_key_meetup\n",
    "from pandas.io.json import json_normalize\n",
    "import requests\n",
    "import logging\n",
    "import matplotlib.pyplot as plt\n",
    "import seaborn as sns\n",
    "#pd.DataFrame.from_dict(json_normalize(list), orient='columns')"
   ]
  },
  {
   "cell_type": "markdown",
   "metadata": {},
   "source": [
    "-----------\n",
    "### Cities\n",
    "-----------"
   ]
  },
  {
   "cell_type": "code",
   "execution_count": 9,
   "metadata": {},
   "outputs": [
    {
     "name": "stdout",
     "output_type": "stream",
     "text": [
      "  Abbreviation        Name\n",
      "0           AL     Alabama\n",
      "1           AK      Alaska\n",
      "2           AZ     Arizona\n",
      "3           AR    Arkansas\n",
      "4           CA  California\n"
     ]
    }
   ],
   "source": [
    "#load the states csv to a a pandas dataframe\n",
    "result = {}\n",
    "\n",
    "filepath = os.path.join(\"data_input\",\"states_us.csv\")\n",
    "\n",
    "with open(filepath,'r') as f:\n",
    "    reader = csv.DictReader(f)\n",
    "    for row in reader:\n",
    "        for column, value in row.items():\n",
    "            result.setdefault(column, []).append(value)\n",
    "            \n",
    "states_df = pd.DataFrame.from_dict(result)\n",
    "print(states_df.head())"
   ]
  },
  {
   "cell_type": "code",
   "execution_count": 10,
   "metadata": {},
   "outputs": [
    {
     "name": "stdout",
     "output_type": "stream",
     "text": [
      "0:https://api.meetup.com/2/cities?country=US&key=6178756c2f194627413177171e5f3f2f&state=AL&page=200\n",
      "5:https://api.meetup.com/2/cities?country=US&key=6178756c2f194627413177171e5f3f2f&state=CO&page=200\n",
      "10:https://api.meetup.com/2/cities?country=US&key=6178756c2f194627413177171e5f3f2f&state=HI&page=200\n",
      "15:https://api.meetup.com/2/cities?country=US&key=6178756c2f194627413177171e5f3f2f&state=KS&page=200\n",
      "20:https://api.meetup.com/2/cities?country=US&key=6178756c2f194627413177171e5f3f2f&state=MA&page=200\n",
      "25:https://api.meetup.com/2/cities?country=US&key=6178756c2f194627413177171e5f3f2f&state=MT&page=200\n",
      "30:https://api.meetup.com/2/cities?country=US&key=6178756c2f194627413177171e5f3f2f&state=NM&page=200\n",
      "35:https://api.meetup.com/2/cities?country=US&key=6178756c2f194627413177171e5f3f2f&state=OK&page=200\n",
      "40:https://api.meetup.com/2/cities?country=US&key=6178756c2f194627413177171e5f3f2f&state=SD&page=200\n",
      "45:https://api.meetup.com/2/cities?country=US&key=6178756c2f194627413177171e5f3f2f&state=VA&page=200\n"
     ]
    }
   ],
   "source": [
    "# EXTRACT MEETUP CITIES FOR ALL THE STATES IN STATES_DF\n",
    "\n",
    "# API host - CITIES\n",
    "cities_list = []\n",
    "\n",
    "#counter object\n",
    "counter = 0\n",
    "\n",
    "#loop through each state\n",
    "for state in states_df['Abbreviation']:\n",
    "\n",
    "    #construct the query\n",
    "    base_url_city = \"https://api.meetup.com\"\n",
    "    method = \"/2/cities\"\n",
    "\n",
    "    #configuration\n",
    "    params = {\n",
    "            \"country\" : \"US\",\n",
    "            \"key\" : api_key_meetup,\n",
    "            \"state\" : state,\n",
    "            \"page\" : 200\n",
    "            }\n",
    "\n",
    "    # request the url\n",
    "    response = requests.get(base_url_city+method, params=params)\n",
    "\n",
    "    # check if the requests are within X-RateLimits\n",
    "    if int(response.headers['X-RateLimit-Remaining']) <= 2:\n",
    "        time.sleep(60)\n",
    "      \n",
    "    if counter % 5 == 0:\n",
    "        print(f\"{counter}:{response.url}\")\n",
    "    \n",
    "    #increment the counter by 1\n",
    "    counter += 1\n",
    "    \n",
    "    #store the json in cities variable\n",
    "    cities = response.json()['results']\n",
    "    \n",
    "    #loop through each city\n",
    "    for city in cities:\n",
    "        city['state_params'] = state\n",
    "        city['country_params'] = params[\"country\"]\n",
    "        cities_list.append(city)"
   ]
  },
  {
   "cell_type": "code",
   "execution_count": 11,
   "metadata": {
    "scrolled": true
   },
   "outputs": [
    {
     "data": {
      "text/plain": [
       "{'Content-Type': 'application/json;charset=utf-8', 'Server': 'Apache-Coyote/1.1', 'X-Meetup-server': 'b53e30fe22c4', 'X-Meetup-Request-ID': 'e911fd44-95ba-4f1a-a03f-d9e2e99c69b0', 'X-RateLimit-Limit': '30', 'X-RateLimit-Remaining': '8', 'X-RateLimit-Reset': '4', 'X-OAuth-Scopes': 'basic', 'X-Accepted-OAuth-Scopes': 'basic', 'ETag': '\"504775c9fe4e950398e32302be745fa7-gzip\"', 'Content-Encoding': 'gzip', 'Content-Length': '7540', 'Accept-Ranges': 'bytes', 'Date': 'Wed, 06 Dec 2017 19:51:50 GMT', 'Via': '1.1 varnish', 'Connection': 'keep-alive', 'X-Served-By': 'cache-dfw18627-DFW', 'X-Cache': 'MISS', 'X-Cache-Hits': '0', 'X-Timer': 'S1512589910.270615,VS0,VE74', 'Vary': 'Accept-Encoding,User-Agent,Accept-Language'}"
      ]
     },
     "execution_count": 11,
     "metadata": {},
     "output_type": "execute_result"
    }
   ],
   "source": [
    "response.headers"
   ]
  },
  {
   "cell_type": "markdown",
   "metadata": {},
   "source": [
    "    X-RateLimit-Limit\tThe maximum number of requests that can be made in a window of time\n",
    "    X-RateLimit-Remaining\tThe remaining number of requests allowed in the current rate limit window\n",
    "    X-RateLimit-Reset\tThe number of seconds until the current rate limit window resets"
   ]
  },
  {
   "cell_type": "code",
   "execution_count": 12,
   "metadata": {},
   "outputs": [],
   "source": [
    "df_city = pd.DataFrame.from_dict(cities_list)"
   ]
  },
  {
   "cell_type": "code",
   "execution_count": 15,
   "metadata": {},
   "outputs": [],
   "source": [
    "# exclude alaska and hawaii states\n",
    "df_city = df_city[~df_city['state'].isin(['HI', 'AK'])]"
   ]
  },
  {
   "cell_type": "code",
   "execution_count": 16,
   "metadata": {},
   "outputs": [],
   "source": [
    "df_city.to_csv(\"data_output/df_meetup_cities.csv\", encoding=\"utf-8\", index=False)"
   ]
  },
  {
   "cell_type": "code",
   "execution_count": 17,
   "metadata": {},
   "outputs": [
    {
     "name": "stdout",
     "output_type": "stream",
     "text": [
      "<class 'pandas.core.frame.DataFrame'>\n",
      "Int64Index: 9203 entries, 0 to 9494\n",
      "Data columns (total 13 columns):\n",
      "city                      9203 non-null object\n",
      "country                   9203 non-null object\n",
      "country_params            9203 non-null object\n",
      "distance                  9203 non-null float64\n",
      "id                        9203 non-null int64\n",
      "lat                       9203 non-null float64\n",
      "localized_country_name    9203 non-null object\n",
      "lon                       9203 non-null float64\n",
      "member_count              9203 non-null int64\n",
      "ranking                   9203 non-null int64\n",
      "state                     9203 non-null object\n",
      "state_params              9203 non-null object\n",
      "zip                       9203 non-null object\n",
      "dtypes: float64(3), int64(3), object(7)\n",
      "memory usage: 1006.6+ KB\n"
     ]
    }
   ],
   "source": [
    "df_city.info()"
   ]
  }
 ],
 "metadata": {
  "kernelspec": {
   "display_name": "Python 3",
   "language": "python",
   "name": "python3"
  },
  "language_info": {
   "codemirror_mode": {
    "name": "ipython",
    "version": 3
   },
   "file_extension": ".py",
   "mimetype": "text/x-python",
   "name": "python",
   "nbconvert_exporter": "python",
   "pygments_lexer": "ipython3",
   "version": "3.6.2"
  }
 },
 "nbformat": 4,
 "nbformat_minor": 2
}
