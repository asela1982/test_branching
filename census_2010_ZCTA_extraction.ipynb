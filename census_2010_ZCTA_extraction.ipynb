{
 "cells": [
  {
   "cell_type": "code",
   "execution_count": 22,
   "metadata": {},
   "outputs": [],
   "source": [
    "import os\n",
    "import pandas as pd"
   ]
  },
  {
   "cell_type": "code",
   "execution_count": 41,
   "metadata": {
    "scrolled": true
   },
   "outputs": [
    {
     "data": {
      "text/html": [
       "<div>\n",
       "<style>\n",
       "    .dataframe thead tr:only-child th {\n",
       "        text-align: right;\n",
       "    }\n",
       "\n",
       "    .dataframe thead th {\n",
       "        text-align: left;\n",
       "    }\n",
       "\n",
       "    .dataframe tbody tr th {\n",
       "        vertical-align: top;\n",
       "    }\n",
       "</style>\n",
       "<table border=\"1\" class=\"dataframe\">\n",
       "  <thead>\n",
       "    <tr style=\"text-align: right;\">\n",
       "      <th></th>\n",
       "      <th>Zip Code ZCTA</th>\n",
       "      <th>2010 Census Population</th>\n",
       "    </tr>\n",
       "  </thead>\n",
       "  <tbody>\n",
       "    <tr>\n",
       "      <th>0</th>\n",
       "      <td>1001</td>\n",
       "      <td>16769</td>\n",
       "    </tr>\n",
       "    <tr>\n",
       "      <th>1</th>\n",
       "      <td>1002</td>\n",
       "      <td>29049</td>\n",
       "    </tr>\n",
       "    <tr>\n",
       "      <th>2</th>\n",
       "      <td>1003</td>\n",
       "      <td>10372</td>\n",
       "    </tr>\n",
       "    <tr>\n",
       "      <th>3</th>\n",
       "      <td>1005</td>\n",
       "      <td>5079</td>\n",
       "    </tr>\n",
       "    <tr>\n",
       "      <th>4</th>\n",
       "      <td>1007</td>\n",
       "      <td>14649</td>\n",
       "    </tr>\n",
       "  </tbody>\n",
       "</table>\n",
       "</div>"
      ],
      "text/plain": [
       "   Zip Code ZCTA  2010 Census Population\n",
       "0           1001                   16769\n",
       "1           1002                   29049\n",
       "2           1003                   10372\n",
       "3           1005                    5079\n",
       "4           1007                   14649"
      ]
     },
     "execution_count": 41,
     "metadata": {},
     "output_type": "execute_result"
    }
   ],
   "source": [
    "filepath_1 = os.path.join(\"census_2010_ZCTA.csv\")\n",
    "census_ZCTA_df = pd.read_csv(filepath_1)\n",
    "# len(census_ZCTA_df)\n",
    "census_ZCTA_df.head()"
   ]
  },
  {
   "cell_type": "code",
   "execution_count": 58,
   "metadata": {
    "scrolled": true
   },
   "outputs": [
    {
     "data": {
      "text/html": [
       "<div>\n",
       "<style>\n",
       "    .dataframe thead tr:only-child th {\n",
       "        text-align: right;\n",
       "    }\n",
       "\n",
       "    .dataframe thead th {\n",
       "        text-align: left;\n",
       "    }\n",
       "\n",
       "    .dataframe tbody tr th {\n",
       "        vertical-align: top;\n",
       "    }\n",
       "</style>\n",
       "<table border=\"1\" class=\"dataframe\">\n",
       "  <thead>\n",
       "    <tr style=\"text-align: right;\">\n",
       "      <th></th>\n",
       "      <th>GEOID</th>\n",
       "      <th>POP10</th>\n",
       "      <th>HU10</th>\n",
       "      <th>ALAND</th>\n",
       "      <th>AWATER</th>\n",
       "      <th>ALAND_SQMI</th>\n",
       "      <th>AWATER_SQMI</th>\n",
       "      <th>INTPTLAT</th>\n",
       "      <th>INTPTLONG</th>\n",
       "    </tr>\n",
       "  </thead>\n",
       "  <tbody>\n",
       "    <tr>\n",
       "      <th>0</th>\n",
       "      <td>00601</td>\n",
       "      <td>18570.0</td>\n",
       "      <td>7744.0</td>\n",
       "      <td>166659789.0</td>\n",
       "      <td>799296.0</td>\n",
       "      <td>64.348</td>\n",
       "      <td>0.309</td>\n",
       "      <td>18.180555</td>\n",
       "      <td>-66.749961</td>\n",
       "    </tr>\n",
       "    <tr>\n",
       "      <th>1</th>\n",
       "      <td>00602</td>\n",
       "      <td>41520.0</td>\n",
       "      <td>18073.0</td>\n",
       "      <td>79288158.0</td>\n",
       "      <td>4446273.0</td>\n",
       "      <td>30.613</td>\n",
       "      <td>1.717</td>\n",
       "      <td>18.362268</td>\n",
       "      <td>-67.176130</td>\n",
       "    </tr>\n",
       "    <tr>\n",
       "      <th>2</th>\n",
       "      <td>00603</td>\n",
       "      <td>54689.0</td>\n",
       "      <td>25653.0</td>\n",
       "      <td>81880442.0</td>\n",
       "      <td>183425.0</td>\n",
       "      <td>31.614</td>\n",
       "      <td>0.071</td>\n",
       "      <td>18.455183</td>\n",
       "      <td>-67.119887</td>\n",
       "    </tr>\n",
       "    <tr>\n",
       "      <th>3</th>\n",
       "      <td>00606</td>\n",
       "      <td>6615.0</td>\n",
       "      <td>2877.0</td>\n",
       "      <td>109580061.0</td>\n",
       "      <td>12487.0</td>\n",
       "      <td>42.309</td>\n",
       "      <td>0.005</td>\n",
       "      <td>18.158345</td>\n",
       "      <td>-66.932911</td>\n",
       "    </tr>\n",
       "    <tr>\n",
       "      <th>4</th>\n",
       "      <td>00610</td>\n",
       "      <td>29016.0</td>\n",
       "      <td>12618.0</td>\n",
       "      <td>93021467.0</td>\n",
       "      <td>4172001.0</td>\n",
       "      <td>35.916</td>\n",
       "      <td>1.611</td>\n",
       "      <td>18.290955</td>\n",
       "      <td>-67.125868</td>\n",
       "    </tr>\n",
       "  </tbody>\n",
       "</table>\n",
       "</div>"
      ],
      "text/plain": [
       "    GEOID    POP10     HU10        ALAND     AWATER  ALAND_SQMI  AWATER_SQMI  \\\n",
       "0   00601  18570.0   7744.0  166659789.0   799296.0      64.348        0.309   \n",
       "1   00602  41520.0  18073.0   79288158.0  4446273.0      30.613        1.717   \n",
       "2   00603  54689.0  25653.0   81880442.0   183425.0      31.614        0.071   \n",
       "3   00606   6615.0   2877.0  109580061.0    12487.0      42.309        0.005   \n",
       "4   00610  29016.0  12618.0   93021467.0  4172001.0      35.916        1.611   \n",
       "\n",
       "    INTPTLAT  \\\n",
       "0  18.180555   \n",
       "1  18.362268   \n",
       "2  18.455183   \n",
       "3  18.158345   \n",
       "4  18.290955   \n",
       "\n",
       "   INTPTLONG                                                                                                                         \n",
       "0                                         -66.749961                                                                                 \n",
       "1                                         -67.176130                                                                                 \n",
       "2                                         -67.119887                                                                                 \n",
       "3                                         -66.932911                                                                                 \n",
       "4                                         -67.125868                                                                                 "
      ]
     },
     "execution_count": 58,
     "metadata": {},
     "output_type": "execute_result"
    }
   ],
   "source": [
    "filepath_2 = os.path.join(\"Gaz_zcta_national.txt\")\n",
    "zipcode_df = pd.read_csv(filepath_2, sep='\\t', lineterminator='\\r')\n",
    "# len(zipcode_df)\n",
    "zipcode_clean_df = zipcode_df.replace(r'\\n',' ', regex=True)\n",
    "zipcode_clean_df.head()"
   ]
  },
  {
   "cell_type": "code",
   "execution_count": 60,
   "metadata": {},
   "outputs": [],
   "source": [
    "zipcode_clean_df.to_csv(\"zcta_census_2010\")"
   ]
  }
 ],
 "metadata": {
  "kernelspec": {
   "display_name": "Python 3",
   "language": "python",
   "name": "python3"
  },
  "language_info": {
   "codemirror_mode": {
    "name": "ipython",
    "version": 3
   },
   "file_extension": ".py",
   "mimetype": "text/x-python",
   "name": "python",
   "nbconvert_exporter": "python",
   "pygments_lexer": "ipython3",
   "version": "3.6.2"
  }
 },
 "nbformat": 4,
 "nbformat_minor": 2
}
